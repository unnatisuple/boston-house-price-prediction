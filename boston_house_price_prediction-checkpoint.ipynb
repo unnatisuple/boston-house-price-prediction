{
 "cells": [
  {
   "cell_type": "markdown",
   "id": "189024ba",
   "metadata": {},
   "source": [
    "# Boston House Price Prediction - Efficient Implementation"
   ]
  },
  {
   "cell_type": "code",
   "execution_count": null,
   "id": "5a0b7be4",
   "metadata": {},
   "outputs": [],
   "source": [
    "# Import required libraries\n",
    "import numpy as np\n",
    "import pandas as pd\n",
    "import matplotlib.pyplot as plt\n",
    "import seaborn as sns\n",
    "from sklearn.model_selection import train_test_split\n",
    "from sklearn.linear_model import LinearRegression\n",
    "from sklearn.metrics import mean_squared_error, r2_score\n",
    "import pickle\n",
    "\n",
    "# Set visualization style\n",
    "sns.set_style(\"darkgrid\")"
   ]
  },
  {
   "cell_type": "code",
   "execution_count": null,
   "id": "1f64ae7c",
   "metadata": {},
   "outputs": [],
   "source": [
    "# Load data from CSV file\n",
    "data = pd.read_csv('BostonHousing.csv')\n",
    "print(f\"Loaded dataset with {data.shape[0]} samples and {data.shape[1]} features\")\n",
    "data.head()"
   ]
  },
  {
   "cell_type": "code",
   "execution_count": null,
   "id": "35a57923",
   "metadata": {},
   "outputs": [],
   "source": [
    "# Quick data analysis\n",
    "print(\"Dataset Info:\")\n",
    "data.info()\n",
    "\n",
    "# Check for missing values\n",
    "missing = data.isnull().sum()\n",
    "if missing.sum() > 0:\n",
    "    print(\"\\nMissing values:\\n\", missing[missing > 0])\n",
    "else:\n",
    "    print(\"\\nNo missing values found\")\n",
    "    \n",
    "# Statistical summary of target variable\n",
    "print(\"\\nPrice Statistics:\")\n",
    "print(data['price'].describe())"
   ]
  },
  {
   "cell_type": "code",
   "execution_count": null,
   "id": "a0cf9dc8",
   "metadata": {},
   "outputs": [],
   "source": [
    "# Key visualizations\n",
    "fig, axes = plt.subplots(1, 2, figsize=(15, 6))\n",
    "\n",
    "# Price distribution\n",
    "sns.histplot(data['price'], kde=True, ax=axes[0])\n",
    "axes[0].set_title('Price Distribution')\n",
    "\n",
    "# Correlation heatmap of the most correlated features\n",
    "corr = data.corr()\n",
    "most_corr = corr['price'].sort_values(ascending=False)\n",
    "top_features = ['price'] + list(most_corr[1:6].index)\n",
    "sns.heatmap(data[top_features].corr(), annot=True, cmap='coolwarm', ax=axes[1])\n",
    "axes[1].set_title('Correlation Heatmap')\n",
    "\n",
    "plt.tight_layout()\n",
    "plt.show()\n",
    "\n",
    "print(\"Top correlations with price:\")\n",
    "print(most_corr.head(6))"
   ]
  },
  {
   "cell_type": "code",
   "execution_count": null,
   "id": "df891521",
   "metadata": {},
   "outputs": [],
   "source": [
    "# Model training and evaluation\n",
    "# Prepare data\n",
    "X = data.drop('price', axis=1)\n",
    "y = data['price']\n",
    "X_train, X_test, y_train, y_test = train_test_split(X, y, test_size=0.2, random_state=42)\n",
    "\n",
    "# Train model\n",
    "model = LinearRegression()\n",
    "model.fit(X_train, y_train)\n",
    "\n",
    "# Evaluate model\n",
    "y_pred = model.predict(X_test)\n",
    "r2 = r2_score(y_test, y_pred)\n",
    "rmse = np.sqrt(mean_squared_error(y_test, y_pred))\n",
    "\n",
    "print(f\"Model Performance:\")\n",
    "print(f\"R² Score: {r2:.4f}\")\n",
    "print(f\"RMSE: {rmse:.4f}\")\n",
    "\n",
    "# Plot predicted vs actual\n",
    "plt.figure(figsize=(8, 6))\n",
    "plt.scatter(y_test, y_pred, alpha=0.6)\n",
    "plt.plot([y.min(), y.max()], [y.min(), y.max()], 'r--')\n",
    "plt.xlabel('Actual Price')\n",
    "plt.ylabel('Predicted Price')\n",
    "plt.title('Actual vs Predicted Prices')\n",
    "plt.tight_layout()\n",
    "plt.show()"
   ]
  },
  {
   "cell_type": "code",
   "execution_count": null,
   "id": "e8e25974",
   "metadata": {},
   "outputs": [],
   "source": [
    "# Feature importance\n",
    "coefs = pd.DataFrame({\n",
    "    'Feature': X.columns,\n",
    "    'Importance': model.coef_\n",
    "}).sort_values('Importance', ascending=False)\n",
    "\n",
    "plt.figure(figsize=(10, 6))\n",
    "sns.barplot(x='Importance', y='Feature', data=coefs)\n",
    "plt.title('Feature Importance')\n",
    "plt.tight_layout()\n",
    "plt.show()\n",
    "\n",
    "print(\"Top 5 most important features:\")\n",
    "print(coefs.head(5))"
   ]
  },
  {
   "cell_type": "code",
   "execution_count": null,
   "id": "7260efac",
   "metadata": {},
   "outputs": [],
   "source": [
    "# Save the model\n",
    "with open('boston_model.pkl', 'wb') as file:\n",
    "    pickle.dump(model, file)\n",
    "print(\"Model saved as 'boston_model.pkl'\")"
   ]
  }
 ],
 "metadata": {
  "language_info": {
   "name": "python"
  }
 },
 "nbformat": 4,
 "nbformat_minor": 5
}
